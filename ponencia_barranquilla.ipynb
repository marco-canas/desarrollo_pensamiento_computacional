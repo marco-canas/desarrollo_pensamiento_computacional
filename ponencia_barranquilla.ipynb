{
 "cells": [
  {
   "cell_type": "markdown",
   "metadata": {},
   "source": [
    "<table align=\"left\">\n",
    "  <td>\n",
    "    <a href=\"https://colab.research.google.com/github/marco-canas/calculo/blob/main/classes/4_integration/teorema_fundamental_calculo/1_evaluacion_quiz_parcial_teorema_fundamental_calculo.ipynb\" target=\"_parent\"><img src=\"https://colab.research.google.com/assets/colab-badge.svg\" alt=\"Open In Colab\"/></a>\n",
    "  </td>\n",
    "</table>"
   ]
  },
  {
   "cell_type": "markdown",
   "metadata": {},
   "source": [
    "### [Video de appoyo_1](https://www.youtube.com/watch?v=7-ALztZupdE)"
   ]
  },
  {
   "cell_type": "markdown",
   "metadata": {},
   "source": [
    "# Ponencia: DESARROLLO DEL PENSAMIENTO COMPUTACIONAL EN ESTUDIANTES DE ADMINISTRACIÓN DE EMPRESAS, CON PYTHON Y MACHINE LEARNING"
   ]
  },
  {
   "cell_type": "markdown",
   "metadata": {},
   "source": [
    "**Tipo de poonencia:** Abstract corto. "
   ]
  },
  {
   "cell_type": "markdown",
   "metadata": {},
   "source": [
    "**Palabras clave:** \n",
    "Python, Machine Learning, Administración de Empresas, Pensamiento computacional.\n"
   ]
  },
  {
   "cell_type": "markdown",
   "metadata": {},
   "source": [
    "\n",
    "## Resumen\n"
   ]
  },
  {
   "cell_type": "markdown",
   "metadata": {},
   "source": [
    "El pensamiento computacional es una forma de pensar que permite a las personas resolver problemas de forma lógica y sistemática. Es una habilidad esencial en el mundo actual, ya que cada vez más tareas se automatizan y se requieren personas que puedan pensar críticamente y resolver problemas de forma creativa. "
   ]
  },
  {
   "cell_type": "markdown",
   "metadata": {},
   "source": [
    "El desarrollo del pensamiento computacional en los estudiantes de Administración de Empresas puede contribuir a mejorar la toma de decisiones, afrontar y resolver problemas de manera estructurada y lógica, analizar de manera más eficiente lo datos empresariales y optimizar procesos. "
   ]
  },
  {
   "cell_type": "markdown",
   "metadata": {},
   "source": [
    "El objetivo de la investigación es el diseño de una propuesta de enseñanza-aprendizaje para el desarrollo del pensamiento computacional en estudiantes de Administración de Empresas, utilizando Python y Machine Learning. La propuesta tiene enfoque cualitativo, de tipo descriptivo y se empleará un estudio de caso, que permitirá comprender en profundidad los procesos y las experiencias de los estudiantes. Los resultados destacan la relevancia del pensamiento computacional como una habilidad esencial en el campo empresarial actual, donde el análisis de datos y el Machine Learning se han vuelto cruciales para la eficiente toma de decisiones y la resolución de problemas. "
   ]
  },
  {
   "cell_type": "markdown",
   "metadata": {},
   "source": [
    "El desarrollo de estas habilidades en los estudiantes puede proporcionar una ventaja competitiva y permitir la toma decisiones informadas y estratégicas. "
   ]
  },
  {
   "cell_type": "markdown",
   "metadata": {},
   "source": [
    "La formación en pensamiento computacional debe ser considerada como parte integral del currículo académico de los programas de Administración de Empresas, para preparar a los estudiantes para los desafíos del mundo laboral, con entornos empresariales cada vez más digitalizados y tecnológicos.\n"
   ]
  },
  {
   "cell_type": "markdown",
   "metadata": {},
   "source": [
    "# Ejemplo de aplicación de python a la solución de un problema de costos"
   ]
  },
  {
   "cell_type": "markdown",
   "metadata": {},
   "source": [
    "# Ejemplo de parcial\n",
    "\n",
    "## Reposición de inventario\n",
    "\n",
    "El costo $C$ de pedido y transporte de los elementos utilizados para la fabricación de un producto es: \n",
    "\n",
    "$$ C(x) = 100\\left( \\frac{200}{x^{2}} + \\frac{x}{x+30} \\right), \\ \\ x \\geq 1$$\n",
    "\n",
    "donde $C$ se mide en miles de dólares y $x$ es el tamaño del pedido en cientos. \n",
    "\n",
    "1. Encontrar la velocidad de cambio del costo $C$ respecto del tamaño del pedido $x$ cuando \n",
    "   * $x = 10$\n",
    "   * $x = 15$\n",
    "   * $x = 20$  \n",
    "  ¿Qué implican estas velocidades de cambio cuando el tamaño del pedido aumenta?\n",
    "\n",
    "2. ¿Cuándo se genera el costo mínimo? ¿De qué valor es el costo mínimo?  \n",
    "3. ¿Probar de que efectivamente la función $C$ es de costo mínimo?"
   ]
  },
  {
   "cell_type": "markdown",
   "metadata": {},
   "source": [
    "# Solución\n"
   ]
  },
  {
   "cell_type": "code",
   "execution_count": null,
   "metadata": {},
   "outputs": [],
   "source": [
    "* Obtenga la representación tabular de la función. \n",
    "* Realice la visualización de la función de costo. "
   ]
  },
  {
   "cell_type": "code",
   "execution_count": 21,
   "metadata": {},
   "outputs": [
    {
     "data": {
      "text/html": [
       "<div>\n",
       "<style scoped>\n",
       "    .dataframe tbody tr th:only-of-type {\n",
       "        vertical-align: middle;\n",
       "    }\n",
       "\n",
       "    .dataframe tbody tr th {\n",
       "        vertical-align: top;\n",
       "    }\n",
       "\n",
       "    .dataframe thead th {\n",
       "        text-align: right;\n",
       "    }\n",
       "</style>\n",
       "<table border=\"1\" class=\"dataframe\">\n",
       "  <thead>\n",
       "    <tr style=\"text-align: right;\">\n",
       "      <th></th>\n",
       "      <th>tamaño del pedido</th>\n",
       "      <th>costo dell pedido</th>\n",
       "    </tr>\n",
       "  </thead>\n",
       "  <tbody>\n",
       "    <tr>\n",
       "      <th>80</th>\n",
       "      <td>38.0</td>\n",
       "      <td>69.732768</td>\n",
       "    </tr>\n",
       "    <tr>\n",
       "      <th>81</th>\n",
       "      <td>38.1</td>\n",
       "      <td>69.724942</td>\n",
       "    </tr>\n",
       "    <tr>\n",
       "      <th>82</th>\n",
       "      <td>38.2</td>\n",
       "      <td>69.717495</td>\n",
       "    </tr>\n",
       "    <tr>\n",
       "      <th>83</th>\n",
       "      <td>38.3</td>\n",
       "      <td>69.710422</td>\n",
       "    </tr>\n",
       "    <tr>\n",
       "      <th>84</th>\n",
       "      <td>38.4</td>\n",
       "      <td>69.703719</td>\n",
       "    </tr>\n",
       "    <tr>\n",
       "      <th>85</th>\n",
       "      <td>38.5</td>\n",
       "      <td>69.697380</td>\n",
       "    </tr>\n",
       "    <tr>\n",
       "      <th>86</th>\n",
       "      <td>38.6</td>\n",
       "      <td>69.691401</td>\n",
       "    </tr>\n",
       "    <tr>\n",
       "      <th>87</th>\n",
       "      <td>38.7</td>\n",
       "      <td>69.685776</td>\n",
       "    </tr>\n",
       "    <tr>\n",
       "      <th>88</th>\n",
       "      <td>38.8</td>\n",
       "      <td>69.680501</td>\n",
       "    </tr>\n",
       "    <tr>\n",
       "      <th>89</th>\n",
       "      <td>38.9</td>\n",
       "      <td>69.675572</td>\n",
       "    </tr>\n",
       "    <tr>\n",
       "      <th>90</th>\n",
       "      <td>39.0</td>\n",
       "      <td>69.670983</td>\n",
       "    </tr>\n",
       "    <tr>\n",
       "      <th>91</th>\n",
       "      <td>39.1</td>\n",
       "      <td>69.666730</td>\n",
       "    </tr>\n",
       "    <tr>\n",
       "      <th>92</th>\n",
       "      <td>39.2</td>\n",
       "      <td>69.662809</td>\n",
       "    </tr>\n",
       "    <tr>\n",
       "      <th>93</th>\n",
       "      <td>39.3</td>\n",
       "      <td>69.659215</td>\n",
       "    </tr>\n",
       "    <tr>\n",
       "      <th>94</th>\n",
       "      <td>39.4</td>\n",
       "      <td>69.655944</td>\n",
       "    </tr>\n",
       "    <tr>\n",
       "      <th>95</th>\n",
       "      <td>39.5</td>\n",
       "      <td>69.652991</td>\n",
       "    </tr>\n",
       "    <tr>\n",
       "      <th>96</th>\n",
       "      <td>39.6</td>\n",
       "      <td>69.650352</td>\n",
       "    </tr>\n",
       "    <tr>\n",
       "      <th>97</th>\n",
       "      <td>39.7</td>\n",
       "      <td>69.648024</td>\n",
       "    </tr>\n",
       "    <tr>\n",
       "      <th>98</th>\n",
       "      <td>39.8</td>\n",
       "      <td>69.646001</td>\n",
       "    </tr>\n",
       "    <tr>\n",
       "      <th>99</th>\n",
       "      <td>39.9</td>\n",
       "      <td>69.644280</td>\n",
       "    </tr>\n",
       "    <tr>\n",
       "      <th>100</th>\n",
       "      <td>40.0</td>\n",
       "      <td>69.642857</td>\n",
       "    </tr>\n",
       "    <tr>\n",
       "      <th>101</th>\n",
       "      <td>40.1</td>\n",
       "      <td>69.641728</td>\n",
       "    </tr>\n",
       "    <tr>\n",
       "      <th>102</th>\n",
       "      <td>40.2</td>\n",
       "      <td>69.640889</td>\n",
       "    </tr>\n",
       "    <tr>\n",
       "      <th>103</th>\n",
       "      <td>40.3</td>\n",
       "      <td>69.640335</td>\n",
       "    </tr>\n",
       "    <tr>\n",
       "      <th>104</th>\n",
       "      <td>40.4</td>\n",
       "      <td>69.640064</td>\n",
       "    </tr>\n",
       "    <tr>\n",
       "      <th>105</th>\n",
       "      <td>40.5</td>\n",
       "      <td>69.640072</td>\n",
       "    </tr>\n",
       "    <tr>\n",
       "      <th>106</th>\n",
       "      <td>40.6</td>\n",
       "      <td>69.640354</td>\n",
       "    </tr>\n",
       "    <tr>\n",
       "      <th>107</th>\n",
       "      <td>40.7</td>\n",
       "      <td>69.640907</td>\n",
       "    </tr>\n",
       "    <tr>\n",
       "      <th>108</th>\n",
       "      <td>40.8</td>\n",
       "      <td>69.641728</td>\n",
       "    </tr>\n",
       "    <tr>\n",
       "      <th>109</th>\n",
       "      <td>40.9</td>\n",
       "      <td>69.642813</td>\n",
       "    </tr>\n",
       "  </tbody>\n",
       "</table>\n",
       "</div>"
      ],
      "text/plain": [
       "     tamaño del pedido  costo dell pedido\n",
       "80                38.0          69.732768\n",
       "81                38.1          69.724942\n",
       "82                38.2          69.717495\n",
       "83                38.3          69.710422\n",
       "84                38.4          69.703719\n",
       "85                38.5          69.697380\n",
       "86                38.6          69.691401\n",
       "87                38.7          69.685776\n",
       "88                38.8          69.680501\n",
       "89                38.9          69.675572\n",
       "90                39.0          69.670983\n",
       "91                39.1          69.666730\n",
       "92                39.2          69.662809\n",
       "93                39.3          69.659215\n",
       "94                39.4          69.655944\n",
       "95                39.5          69.652991\n",
       "96                39.6          69.650352\n",
       "97                39.7          69.648024\n",
       "98                39.8          69.646001\n",
       "99                39.9          69.644280\n",
       "100               40.0          69.642857\n",
       "101               40.1          69.641728\n",
       "102               40.2          69.640889\n",
       "103               40.3          69.640335\n",
       "104               40.4          69.640064\n",
       "105               40.5          69.640072\n",
       "106               40.6          69.640354\n",
       "107               40.7          69.640907\n",
       "108               40.8          69.641728\n",
       "109               40.9          69.642813"
      ]
     },
     "execution_count": 21,
     "metadata": {},
     "output_type": "execute_result"
    }
   ],
   "source": [
    "import numpy as np \n",
    "import pandas as pd \n",
    "epsilon = 0.1\n",
    "dominio = np.arange(30, 45 + epsilon, epsilon)\n",
    "C = lambda x: 100*(200/x**2 + x/(x+30))\n",
    "rango = C(dominio)\n",
    "\n",
    "costo_tabular = pd.DataFrame({'tamaño del pedido':dominio, 'costo dell pedido':rango})\n",
    "costo_tabular.iloc[80:110] \n"
   ]
  },
  {
   "cell_type": "markdown",
   "metadata": {},
   "source": [
    "Interpretaciones del gráfico\n",
    "\n",
    "* Parece ser que el costo, inicialmente disminuye para luego crecer.\n",
    "* Le costo mínimo se da para un tamaño de aproximadamente 40.5 (por 100) y el costo mínimo es de 69.64(por miles de dolares). "
   ]
  },
  {
   "cell_type": "code",
   "execution_count": 22,
   "metadata": {},
   "outputs": [
    {
     "data": {
      "text/plain": [
       "<matplotlib.collections.PathCollection at 0x7f0b183cd780>"
      ]
     },
     "execution_count": 22,
     "metadata": {},
     "output_type": "execute_result"
    },
    {
     "data": {
      "image/png": "[encoded data removed]",
      "text/plain": [
       "<Figure size 640x480 with 1 Axes>"
      ]
     },
     "metadata": {},
     "output_type": "display_data"
    }
   ],
   "source": [
    "import matplotlib.pyplot as plt\n",
    "\n",
    "plt.scatter(dominio, rango, color = 'red')"
   ]
  },
  {
   "cell_type": "code",
   "execution_count": 27,
   "metadata": {},
   "outputs": [
    {
     "data": {
      "text/plain": [
       "(-38.1250000000000, -10.3703703703704, -3.80000000000000)"
      ]
     },
     "execution_count": 27,
     "metadata": {},
     "output_type": "execute_result"
    }
   ],
   "source": [
    "from sympy import *\n",
    "x,C = var('x, C')\n",
    "Costo_expresion = 100*(200/x**2 + x/(x+30))\n",
    "diff(Costo_expresion, x)\n",
    "\n",
    "diff(Costo_expresion, x).subs(x, 10).evalf(), diff(Costo_expresion, x).subs(x, 15).evalf(), diff(Costo_expresion, x).subs(x, 20).evalf()"
   ]
  },
  {
   "cell_type": "markdown",
   "metadata": {},
   "source": [
    "## Interpretación\n",
    "\n",
    "* Las velocidades de cambio están aumentando hacia cero, lo que implica que aumentar el tamaño del pedido está haciendo decrecer el costo y está haciendo que la velocidad de cambio tienda a cero. \n",
    "\n",
    "Entonces, el empresario debe trabajar duro por aumentar el tamaño del pedido a más de 20 para disminuir el costo all mínimo. "
   ]
  },
  {
   "cell_type": "markdown",
   "metadata": {},
   "source": [
    "Por tanto, desarrollar el pensamiento computacional, puede aportar a el desarrollo de la capacidad de toma de decisiones de los estudiantes de edministración de empresas."
   ]
  },
  {
   "cell_type": "markdown",
   "metadata": {},
   "source": [
    "### [Video de apoyo sobre resolver desde la representación tabular y gráfica](https://www.youtube.com/watch?v=BA6qfgJaYFU)"
   ]
  },
  {
   "cell_type": "markdown",
   "metadata": {},
   "source": [
    "# Encontremos la Derivada de la función de costo, con reglas de derivación, editando con latex"
   ]
  },
  {
   "cell_type": "markdown",
   "metadata": {},
   "source": [
    "\n",
    "Encontramos la razón de cambio de $C$ respecto de $x$. \n",
    "\n",
    "$$ C(x) = 100\\left( \\frac{200}{x^{2}} + \\frac{x}{x+30} \\right), \\ \\ x \\geq 1$$\n",
    "\n",
    "\n",
    "$$ C(x) = 100 \\left(200x^{-2} + \\frac{x + 30 - 30}{x + 30} \\right), \\ x \\geq 1 $$"
   ]
  },
  {
   "cell_type": "markdown",
   "metadata": {},
   "source": [
    "$$ C(x) = 100 \\left( 200x^{-2} + 1 - \\frac{30}{x+30} \\right), \\ \\ x \\geq 1 $$"
   ]
  },
  {
   "cell_type": "markdown",
   "metadata": {},
   "source": [
    "$$C(x) = 100\\left( 200 x^{-2} + 1 - 30(x + 30)^{-1} \\right), \\ \\ x \\geq 1$$"
   ]
  },
  {
   "cell_type": "markdown",
   "metadata": {},
   "source": [
    "\n",
    "$$ C'(x) = 100 \\left(200(-2)x^{-3} + 0 -30(-1)(x + 30)^{-2} \\right), \\ \\ x \\geq 1 $$"
   ]
  },
  {
   "cell_type": "markdown",
   "metadata": {},
   "source": [
    "$$ C'(10) = 100 \\left(200(-2)10^{-3} + 0 -30(-1)(10 + 30)^{-2} \\right)$$"
   ]
  },
  {
   "cell_type": "code",
   "execution_count": 1,
   "metadata": {},
   "outputs": [
    {
     "data": {
      "text/plain": [
       "-38.125"
      ]
     },
     "execution_count": 1,
     "metadata": {},
     "output_type": "execute_result"
    }
   ],
   "source": [
    "C_prima_de_10 = 100*(200*(-2)*10**(-3) + 30*40**-2)\n",
    "\n",
    "C_prima_de_10 "
   ]
  },
  {
   "cell_type": "markdown",
   "metadata": {},
   "source": [
    "$$ C'(15) = 100 \\left(200(-2)15^{-3} + 0 -30(-1)(15 + 30)^{-2} \\right)$$"
   ]
  },
  {
   "cell_type": "code",
   "execution_count": 3,
   "metadata": {},
   "outputs": [
    {
     "data": {
      "text/plain": [
       "-10.370370370370372"
      ]
     },
     "execution_count": 3,
     "metadata": {},
     "output_type": "execute_result"
    }
   ],
   "source": [
    "C_prima_de_15 = 100*(200*(-2)*15**(-3) + 30*45**-2)\n",
    "\n",
    "C_prima_de_15 "
   ]
  },
  {
   "cell_type": "markdown",
   "metadata": {},
   "source": [
    "$$ C'(20) = 100 \\left(200(-2)20^{-3} + 0 -30(-1)(20 + 30)^{-2} \\right)$$"
   ]
  },
  {
   "cell_type": "code",
   "execution_count": 4,
   "metadata": {},
   "outputs": [
    {
     "data": {
      "text/plain": [
       "-3.8000000000000007"
      ]
     },
     "execution_count": 4,
     "metadata": {},
     "output_type": "execute_result"
    }
   ],
   "source": [
    "C_prima_de_20 = 100*(200*(-2)*20**(-3) + 30*50**-2)\n",
    "\n",
    "C_prima_de_20 "
   ]
  },
  {
   "cell_type": "markdown",
   "metadata": {},
   "source": [
    "La derivada está creciendo hacia cero, a medida que $x$ crece de 10 a 20. "
   ]
  },
  {
   "cell_type": "markdown",
   "metadata": {},
   "source": [
    "Lo que implican estas razones de cambio cuando el tamaño del pedido aumenta es que el costo disminuye con el aumento del tamaño del pedido. "
   ]
  },
  {
   "cell_type": "markdown",
   "metadata": {},
   "source": [
    "# Verificación del cálculo de la derivada con sympy"
   ]
  },
  {
   "cell_type": "code",
   "execution_count": 49,
   "metadata": {},
   "outputs": [
    {
     "data": {
      "text/latex": [
       "$\\displaystyle - \\frac{100 x}{\\left(x + 30\\right)^{2}} + \\frac{100}{x + 30} - \\frac{40000}{x^{3}}$"
      ],
      "text/plain": [
       "-100*x/(x + 30)**2 + 100/(x + 30) - 40000/x**3"
      ]
     },
     "execution_count": 49,
     "metadata": {},
     "output_type": "execute_result"
    }
   ],
   "source": [
    "from sympy import * \n",
    "x,C = var('x, C')\n",
    "\n",
    "Costo = 100*(200/x**2 + x/(x+30)) # para x mayor o igual a 1\n",
    "\n",
    "derivada_costo = diff(Costo, x)\n",
    "derivada_costo "
   ]
  },
  {
   "cell_type": "code",
   "execution_count": 8,
   "metadata": {},
   "outputs": [
    {
     "data": {
      "text/plain": [
       "(-38.1250000000000, -10.3703703703704, -3.80000000000000)"
      ]
     },
     "execution_count": 8,
     "metadata": {},
     "output_type": "execute_result"
    }
   ],
   "source": [
    "derivada_costo.subs(x,10).evalf(), derivada_costo.subs(x,15).evalf(), derivada_costo.subs(x,20).evalf()"
   ]
  },
  {
   "cell_type": "markdown",
   "metadata": {},
   "source": [
    "Lo que implican estas razones de cambio cuando el tamaño del pedido aumenta es que el costo disminuye con el aumento del tamaño del pedido. "
   ]
  },
  {
   "cell_type": "markdown",
   "metadata": {},
   "source": []
  },
  {
   "cell_type": "markdown",
   "metadata": {},
   "source": [
    "Por lo tanto, el calculo de la derivada es correcto y la evaluación en 10, 15 y 20 también. "
   ]
  },
  {
   "cell_type": "markdown",
   "metadata": {},
   "source": [
    "#### [Video de apoyo para la primera parte]()  \n",
    "\n",
    "\n",
    "## 2. Segundo punto del parcial \n",
    "* ¿Cuándo se genera el costo mínimo? \n",
    "* ¿De qué valor es el costo mínimo?  \n",
    "\n",
    "<img src = 'https://upload.wikimedia.org/wikipedia/commons/thumb/b/b6/Extrema_example_es.svg/1200px-Extrema_example_es.svg.png'>  \n",
    "\n",
    "A veces el mínimo global se da en un punto crítico\n",
    "<img src = 'https://2.bp.blogspot.com/-0xvyK8MoPzc/UlxTAwmCpUI/AAAAAAAAADk/at55jQBeWEY/s1600/Gr%C3%A1fica+1.jpg'>\n",
    "\n",
    "A veces, el mínimo de una función se da en el extremo de el dominio. \n",
    "\n"
   ]
  },
  {
   "cell_type": "markdown",
   "metadata": {},
   "source": [
    "### Metodología para la solución de este punto sobre:\n",
    "\n",
    "1. el punto donde se da el costo mínimo\n",
    "   - evaluar la función de costo en los extremos del dominio.\n",
    "   - hallar  los puntos críticos y evaluar la función de costo en ellos. \n",
    "2. el valor del costo mínimo\n",
    "eterminamos el valor del costo en los extremos del dominio de la función de costo. "
   ]
  },
  {
   "cell_type": "markdown",
   "metadata": {},
   "source": [
    "### Manos a la obra a la Metodología para la solución de este punto sobre:\n",
    "\n",
    "1. el punto donde se da el costo mínimo\n",
    "   - evaluar la función de costo en los extremos del dominio.\n",
    "\n",
    "$$ C(x) = 100\\left( \\frac{200}{x^{2}} + \\frac{x}{x+30} \\right), \\ \\ x \\geq 1$$\n"
   ]
  },
  {
   "cell_type": "markdown",
   "metadata": {},
   "source": [
    "$$ C(1) = 100\\left( \\frac{200}{1^{2}} + \\frac{1}{1+30} \\right) $$"
   ]
  },
  {
   "cell_type": "code",
   "execution_count": 2,
   "metadata": {},
   "outputs": [
    {
     "data": {
      "text/plain": [
       "20003.225806451614"
      ]
     },
     "execution_count": 2,
     "metadata": {},
     "output_type": "execute_result"
    }
   ],
   "source": [
    "C_de_1 = 100*(200 + 1/31)\n",
    "C_de_1 "
   ]
  },
  {
   "cell_type": "markdown",
   "metadata": {},
   "source": [
    "\n",
    "   - hallar  los puntos críticos y evaluar la función de costo en ellos. \n",
    "Para hallar los puntos críticos, es decir, los puntos del dominio, donde la derivada es cero o no existe, resolvemos la siguiente ecuación:\n",
    "\n",
    "$$C'(x) = 0$$\n",
    "\n",
    "$$ C'(x) = 100 \\left(200(-2)x^{-3} + 0 -30(-1)(x + 30)^{-2} \\right) = 0$$\n",
    "\n"
   ]
  },
  {
   "cell_type": "markdown",
   "metadata": {},
   "source": [
    "$$ 100(-400x^{-3} + 30(x + 30)^{-2})= 0 $$\n",
    "\n",
    "dividimos a ambos lados por 100 para obtener: \n",
    "$$ -400x^{-3} + 30(x + 30)^{-2}= 0 $$"
   ]
  },
  {
   "cell_type": "markdown",
   "metadata": {},
   "source": [
    "$$ 30(x + 30)^{-2}= 400x^{-3}$$"
   ]
  },
  {
   "cell_type": "markdown",
   "metadata": {},
   "source": [
    "$$ \\frac{30}{(x+30)^{2}} = \\frac{400}{x^{3}} $$"
   ]
  },
  {
   "cell_type": "markdown",
   "metadata": {},
   "source": [
    "$$ 30x^{3} = 400(x + 30)^{2} $$"
   ]
  },
  {
   "cell_type": "markdown",
   "metadata": {},
   "source": [
    "$$ 3x^{3} = 40(x + 30)^{2} $$"
   ]
  },
  {
   "cell_type": "markdown",
   "metadata": {},
   "source": [
    "$$ 3x^{3} = 40(x^{2} + 60x + 900) $$"
   ]
  },
  {
   "cell_type": "markdown",
   "metadata": {},
   "source": [
    "$$ 3x^{3} - 40x^{2} - 2400x - 36000 = 0 $$"
   ]
  },
  {
   "cell_type": "markdown",
   "metadata": {},
   "source": [
    "$$ 3x^{3} - 40x^{2} - 2400x - 36000 = 0 $$"
   ]
  },
  {
   "cell_type": "code",
   "execution_count": 46,
   "metadata": {},
   "outputs": [
    {
     "data": {
      "text/latex": [
       "$\\displaystyle 40.4472413277547$"
      ],
      "text/plain": [
       "40.4472413277547"
      ]
     },
     "execution_count": 46,
     "metadata": {},
     "output_type": "execute_result"
    }
   ],
   "source": [
    "from sympy import * \n",
    "x = var('x', real = True)\n",
    "solve(Eq(3*x**3 - 40*x**2 - 2400*x - 36000, 0))[2].evalf()"
   ]
  },
  {
   "cell_type": "markdown",
   "metadata": {},
   "source": [
    "Debe de aumentar el tamaño del corto hasta 40 mil para que el costo se minimice. "
   ]
  },
  {
   "cell_type": "code",
   "execution_count": 3,
   "metadata": {},
   "outputs": [
    {
     "data": {
      "text/plain": [
       "12000.0"
      ]
     },
     "execution_count": 3,
     "metadata": {},
     "output_type": "execute_result"
    }
   ],
   "source": [
    "36000/3"
   ]
  },
  {
   "cell_type": "code",
   "execution_count": 4,
   "metadata": {},
   "outputs": [],
   "source": [
    "def funcion_polinomica(x):\n",
    "    return 3*x**3 - 40*x**2 - 2400*x - 36000"
   ]
  },
  {
   "cell_type": "code",
   "execution_count": 47,
   "metadata": {},
   "outputs": [
    {
     "data": {
      "text/plain": [
       "4.220055416226387e-10"
      ]
     },
     "execution_count": 47,
     "metadata": {},
     "output_type": "execute_result"
    }
   ],
   "source": [
    "funcion_polinomica(40.4472413277547)"
   ]
  },
  {
   "cell_type": "code",
   "execution_count": 52,
   "metadata": {},
   "outputs": [
    {
     "data": {
      "image/png": "[encoded data removed]",
      "text/plain": [
       "<Figure size 640x480 with 1 Axes>"
      ]
     },
     "metadata": {},
     "output_type": "display_data"
    }
   ],
   "source": [
    "import matplotlib.pyplot as plt \n",
    "import numpy as np \n",
    "x = np.arange(40, 41, 0.001)\n",
    "y = funcion_polinomica(x)\n",
    "plt.plot([40,41],[0,0])\n",
    "plt.plot(x,y)\n",
    "plt.grid() \n",
    "\n",
    "plt.savefig('/home/marco/Documentos/investigacion/desarrollo_pensamiento_computacional/images/cero_funcion_polinomica.jpg')\n",
    "\n",
    "plt.show()"
   ]
  },
  {
   "cell_type": "markdown",
   "metadata": {},
   "source": [
    "La función de costo solamente tiene un punto crítico y es $x = 40.4472413277547$\n",
    "\n",
    "Y el valor de la función de costo ahí es: \n",
    "\n"
   ]
  },
  {
   "cell_type": "code",
   "execution_count": 51,
   "metadata": {},
   "outputs": [
    {
     "data": {
      "text/plain": [
       "(69.6400333079076, 20003.225806451614)"
      ]
     },
     "execution_count": 51,
     "metadata": {},
     "output_type": "execute_result"
    }
   ],
   "source": [
    "Costo.subs(x, 40.4472413277547), C_de_1 "
   ]
  },
  {
   "cell_type": "markdown",
   "metadata": {},
   "source": [
    "Por lo tanto, el costo mínimo se da en el punto crítico $x = 40.4472413277547$ y este costo mínimo es de: $C(\\text{punto crítico}) = 69.6400333079076$. \n",
    "\n"
   ]
  },
  {
   "cell_type": "markdown",
   "metadata": {},
   "source": [
    "\n",
    "\n",
    "1. el valor del costo mínimo\n",
    "eterminamos el valor del costo en los extremos del dominio de la función de costo. "
   ]
  },
  {
   "cell_type": "code",
   "execution_count": null,
   "metadata": {},
   "outputs": [],
   "source": []
  },
  {
   "cell_type": "code",
   "execution_count": null,
   "metadata": {},
   "outputs": [],
   "source": []
  },
  {
   "cell_type": "code",
   "execution_count": null,
   "metadata": {},
   "outputs": [],
   "source": []
  },
  {
   "cell_type": "code",
   "execution_count": null,
   "metadata": {},
   "outputs": [],
   "source": []
  },
  {
   "cell_type": "markdown",
   "metadata": {},
   "source": [
    "# 3. ¿Probar de que efectivamente la función $C$ es de costo mínimo?"
   ]
  },
  {
   "cell_type": "code",
   "execution_count": null,
   "metadata": {},
   "outputs": [],
   "source": []
  },
  {
   "cell_type": "code",
   "execution_count": null,
   "metadata": {},
   "outputs": [],
   "source": []
  },
  {
   "cell_type": "code",
   "execution_count": null,
   "metadata": {},
   "outputs": [],
   "source": []
  },
  {
   "cell_type": "markdown",
   "metadata": {},
   "source": [
    "# Implicaciones en habilidades computacionesles necesarias para profesores y estudiantes"
   ]
  },
  {
   "cell_type": "code",
   "execution_count": null,
   "metadata": {},
   "outputs": [],
   "source": []
  },
  {
   "cell_type": "markdown",
   "metadata": {},
   "source": [
    "\n",
    "## Referencias \n"
   ]
  },
  {
   "cell_type": "markdown",
   "metadata": {},
   "source": [
    "* Géron, A. (2022). Hands-on Machine Learning with Scikit-Learn, Keras, and TensorFlow. O'Reilly Media.  \n",
    "* McKinney, W. (2018). Python for Data Analysis. O'Reilly Media.  \n",
    "* Quiroz Vallejo, D. A., Carmona Mesa, J. A., Castrillón Yepes, A., & Villa Ochoa, J. A. (2021). Integración del Pensamiento Computacional en la educación primaria y secundaria en Latinoamérica: una revisión sistemática de literatura. Revista de Educación a Distancia, 68(21), 1-33. https://doi.org/DOI: http://dx.doi.org/10.6018/red.485321\n",
    "\n",
    "* Zapata-Ros, M. (2015). Pensamiento computacional: Una nueva alfabetización digital. Revista de Educación a Distancia (RED), (46). [Recuperado quí](https://revistas.um.es/red/article/view/240321)\n"
   ]
  },
  {
   "cell_type": "markdown",
   "metadata": {},
   "source": [
    "# Lectura del primer referente\n",
    "\n",
    "Pensamiento computacional: Una nueva alfabetización digital  \n",
    "Computational Thinking: A New Digital Literacy  \n",
    "Miguel Zapata-Ros,  \n",
    "Universidad de Murcia. España  \n",
    "mzapata@um.es  \n",
    "\n",
    "### [Primer video de lectura de este artículo](https://www.youtube.com/watch?v=nTP5Bi88uLU)"
   ]
  },
  {
   "cell_type": "markdown",
   "metadata": {},
   "source": [
    "## metodología  \n",
    "\n",
    "La propuesta tiene enfoque cualitativo, de tipo descriptivo y se empleará un estudio de caso, que permitirá comprender en profundidad los procesos y las experiencias de los estudiantes\n",
    "\n"
   ]
  },
  {
   "cell_type": "markdown",
   "metadata": {},
   "source": [
    "Fase 1: Planificación  \n",
    "    1. Definición de Objetivos:\n",
    "        ◦ Establece claramente los objetivos de tu propuesta, como mejorar el pensamiento computacional en estudiantes de administración de empresas utilizando Python y Machine Learning.  \n",
    "    2. Justificación:  \n",
    "        ◦ Explica por qué es importante desarrollar el pensamiento computacional en estudiantes de administración y cómo podría beneficiar sus futuras carreras.\n",
    "    3. Identificación de Casos de Estudio:\n",
    "        ◦ Selecciona casos de estudio específicos (grupos de estudiantes de administración de empresas) en los que implementarás tu enfoque.\n",
    "Fase 2: Diseño de la Investigación\n",
    "    4. Marco Teórico:  \n",
    "        ◦ Realiza una revisión bibliográfica para fundamentar tu propuesta en teorías y enfoques relevantes relacionados con el pensamiento computacional y la administración de empresas.\n",
    "    5. Diseño de Estudio de Caso:\n",
    "        ◦ Describe cómo seleccionarás y abordarás los casos de estudio, incluyendo la recolección de datos cualitativos, como entrevistas y observaciones.\n",
    "    6. Desarrollo del Cuestionario:\n",
    "        ◦ Diseña un cuestionario que permita recopilar datos cualitativos sobre la percepción y la experiencia de los estudiantes en el desarrollo del pensamiento computacional con Python y Machine Learning.  \n",
    "Fase 3: Implementación del Estudio de Caso  \n",
    "    7. Selección de Participantes:  \n",
    "        ◦ Selecciona a los estudiantes de administración de empresas que participarán en el estudio de caso, asegurando una muestra representativa.  \n",
    "    8. Entrevistas y Recopilación de Datos:  \n",
    "        ◦ Realiza entrevistas individuales o en grupos focales con los estudiantes para recopilar datos cualitativos sobre su experiencia en el desarrollo del pensamiento computacional.\n",
    "Fase 4: Análisis de Datos  \n",
    "    9. Transcripción y Codificación:  \n",
    "        ◦ Transcribe las entrevistas y codifica los datos para identificar patrones y temas emergentes relacionados con el pensamiento computacional.  \n",
    "    10. Análisis de Contenido:  \n",
    "        ◦ Realiza un análisis de contenido cualitativo para comprender en profundidad las percepciones y experiencias de los estudiantes.   \n",
    "Fase 5: Conclusiones y Recomendaciones  \n",
    "    11. Interpretación de Resultados:  \n",
    "        ◦ Interpreta los hallazgos de tu investigación y discute cómo se relacionan con el desarrollo del pensamiento computacional en estudiantes de administración de empresas.\n",
    "    12. Conclusiones:  \n",
    "        ◦ Resume las conclusiones principales de tu estudio y cómo contribuyen a la comprensión del tema.  \n",
    "    13. Recomendaciones:  \n",
    "        ◦ Proporciona recomendaciones específicas para mejorar la integración de Python y Machine Learning en la formación de estudiantes de administración.\n",
    "Fase 6: Documentación y Presentación  \n",
    "    14. Informe de Investigación:  \n",
    "        ◦ Escribe un informe de investigación que documente todos los aspectos de tu estudio, desde la metodología hasta los resultados y conclusiones.\n",
    "    15. Presentación de Resultados:\n",
    "        ◦ Prepara una presentación para compartir tus hallazgos con otros interesados, como profesores, estudiantes y administradores académicos.  \n",
    "Fase 7: Evaluación y Retroalimentación  \n",
    "    16. Evaluación de la Propuesta:  \n",
    "        ◦ Evalúa el impacto de tu propuesta en el desarrollo del pensamiento computacional de los estudiantes.  \n",
    "    17. Retroalimentación de los Participantes:  \n",
    "        ◦ Recopila retroalimentación de los estudiantes que participaron en el estudio de caso y utiliza esta información para mejorar futuras implementaciones.  \n"
   ]
  },
  {
   "cell_type": "markdown",
   "metadata": {},
   "source": [
    "Esta metodología guía a través de todas las etapas necesarias para llevar a cabo tu propuesta de desarrollo del pensamiento computacional en estudiantes de administración de empresas utilizando Python y Machine Learning. Seguiremos las mejores prácticas de investigación cualitativa a lo largo de todo el proceso.\n"
   ]
  },
  {
   "cell_type": "code",
   "execution_count": null,
   "metadata": {},
   "outputs": [],
   "source": []
  },
  {
   "cell_type": "code",
   "execution_count": null,
   "metadata": {},
   "outputs": [],
   "source": []
  },
  {
   "cell_type": "code",
   "execution_count": null,
   "metadata": {},
   "outputs": [],
   "source": []
  },
  {
   "cell_type": "code",
   "execution_count": null,
   "metadata": {},
   "outputs": [],
   "source": []
  }
 ],
 "metadata": {
  "kernelspec": {
   "display_name": ".venv",
   "language": "python",
   "name": "python3"
  },
  "language_info": {
   "codemirror_mode": {
    "name": "ipython",
    "version": 3
   },
   "file_extension": ".py",
   "mimetype": "text/x-python",
   "name": "python",
   "nbconvert_exporter": "python",
   "pygments_lexer": "ipython3",
   "version": "3.10.12"
  },
  "orig_nbformat": 4
 },
 "nbformat": 4,
 "nbformat_minor": 2
}
