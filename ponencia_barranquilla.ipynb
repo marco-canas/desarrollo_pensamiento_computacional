{
 "cells": [
  {
   "cell_type": "markdown",
   "metadata": {},
   "source": [
    "<table align=\"left\">\n",
    "  <td>\n",
    "    <a href=\"https://colab.research.google.com/github/marco-canas/calculo/blob/main/classes/4_integration/teorema_fundamental_calculo/1_evaluacion_quiz_parcial_teorema_fundamental_calculo.ipynb\" target=\"_parent\"><img src=\"https://colab.research.google.com/assets/colab-badge.svg\" alt=\"Open In Colab\"/></a>\n",
    "  </td>\n",
    "</table>"
   ]
  },
  {
   "cell_type": "markdown",
   "metadata": {},
   "source": [
    "### [Video de appoyo_1](https://www.youtube.com/watch?v=7-ALztZupdE)"
   ]
  },
  {
   "cell_type": "markdown",
   "metadata": {},
   "source": [
    "# Ponencia: DESARROLLO DEL PENSAMIENTO COMPUTACIONAL EN ESTUDIANTES DE ADMINISTRACIÓN DE EMPRESAS, CON PYTHON Y MACHINE LEARNING"
   ]
  },
  {
   "cell_type": "markdown",
   "metadata": {},
   "source": [
    "**Tipo de poonencia:** Abstract corto. "
   ]
  },
  {
   "cell_type": "markdown",
   "metadata": {},
   "source": [
    "**Palabras clave:** \n",
    "Python, Machine Learning, Administración de Empresas, Pensamiento computacional.\n"
   ]
  },
  {
   "cell_type": "markdown",
   "metadata": {},
   "source": [
    "\n",
    "## Resumen\n"
   ]
  },
  {
   "cell_type": "markdown",
   "metadata": {},
   "source": [
    "El pensamiento computacional es una forma de pensar que permite a las personas resolver problemas de forma lógica y sistemática. Es una habilidad esencial en el mundo actual, ya que cada vez más tareas se automatizan y se requieren personas que puedan pensar críticamente y resolver problemas de forma creativa. "
   ]
  },
  {
   "cell_type": "markdown",
   "metadata": {},
   "source": [
    "El desarrollo del pensamiento computacional en los estudiantes de Administración de Empresas puede contribuir a mejorar la toma de decisiones, afrontar y resolver problemas de manera estructurada y lógica, analizar de manera más eficiente lo datos empresariales y optimizar procesos. "
   ]
  },
  {
   "cell_type": "markdown",
   "metadata": {},
   "source": [
    "El objetivo de la investigación es el diseño de una propuesta de enseñanza-aprendizaje para el desarrollo del pensamiento computacional en estudiantes de Administración de Empresas, utilizando Python y Machine Learning. La propuesta tiene enfoque cualitativo, de tipo descriptivo y se empleará un estudio de caso, que permitirá comprender en profundidad los procesos y las experiencias de los estudiantes. Los resultados destacan la relevancia del pensamiento computacional como una habilidad esencial en el campo empresarial actual, donde el análisis de datos y el Machine Learning se han vuelto cruciales para la eficiente toma de decisiones y la resolución de problemas. "
   ]
  },
  {
   "cell_type": "markdown",
   "metadata": {},
   "source": [
    "El desarrollo de estas habilidades en los estudiantes puede proporcionar una ventaja competitiva y permitir la toma decisiones informadas y estratégicas. "
   ]
  },
  {
   "cell_type": "markdown",
   "metadata": {},
   "source": [
    "La formación en pensamiento computacional debe ser considerada como parte integral del currículo académico de los programas de Administración de Empresas, para preparar a los estudiantes para los desafíos del mundo laboral, con entornos empresariales cada vez más digitalizados y tecnológicos.\n"
   ]
  },
  {
   "cell_type": "markdown",
   "metadata": {},
   "source": [
    "# Ejemplo de aplicación de python a la solución de un problema de costos"
   ]
  },
  {
   "cell_type": "markdown",
   "metadata": {},
   "source": [
    "# Ejemplo de parcial\n",
    "\n",
    "## Reposición de inventario\n",
    "\n",
    "El costo $C$ de pedido y transporte de los elementos utilizados para la fabricación de un producto es: \n",
    "\n",
    "$$ C(x) = 100\\left( \\frac{200}{x^{2}} + \\frac{x}{x+30} \\right), \\ \\ x \\geq 1$$\n",
    "\n",
    "donde $C$ se mide en miles de dólares y $x$ es el tamaño del pedido en cientos. \n",
    "\n",
    "1. Encontrar la razón de cambio de $C$ respecto de $x$ cuando \n",
    "   * $x = 10$\n",
    "   * $x = 15$\n",
    "   * $x = 20$  \n",
    "  ¿Qué implican estas razones de cambio cuando el tamaño del pedido aumenta?\n",
    "\n",
    "2. ¿Cuándo se genera el costo mínimo? ¿De qué valor es el costo mínimo?  \n",
    "3. ¿Probar de que efectivamente la función $C$ es de costo mínimo?"
   ]
  },
  {
   "cell_type": "markdown",
   "metadata": {},
   "source": []
  },
  {
   "cell_type": "markdown",
   "metadata": {},
   "source": [
    "# Implicaciones en habilidades computacionesles necesarias para profesores y estudiantes"
   ]
  },
  {
   "cell_type": "code",
   "execution_count": null,
   "metadata": {},
   "outputs": [],
   "source": []
  },
  {
   "cell_type": "markdown",
   "metadata": {},
   "source": [
    "\n",
    "## Referencias \n"
   ]
  },
  {
   "cell_type": "markdown",
   "metadata": {},
   "source": [
    "* Géron, A. (2022). Hands-on Machine Learning with Scikit-Learn, Keras, and TensorFlow. O'Reilly Media.  \n",
    "* McKinney, W. (2018). Python for Data Analysis. O'Reilly Media.  \n",
    "* Quiroz Vallejo, D. A., Carmona Mesa, J. A., Castrillón Yepes, A., & Villa Ochoa, J. A. (2021). Integración del Pensamiento Computacional en la educación primaria y secundaria en Latinoamérica: una revisión sistemática de literatura. Revista de Educación a Distancia, 68(21), 1-33. https://doi.org/DOI: http://dx.doi.org/10.6018/red.485321\n",
    "\n",
    "* Zapata-Ros, M. (2015). Pensamiento computacional: Una nueva alfabetización digital. Revista de Educación a Distancia (RED), (46). [Recuperado quí](https://revistas.um.es/red/article/view/240321)\n"
   ]
  },
  {
   "cell_type": "markdown",
   "metadata": {},
   "source": [
    "# Lectura del primer referente\n",
    "\n",
    "Pensamiento computacional: Una nueva alfabetización digital  \n",
    "Computational Thinking: A New Digital Literacy  \n",
    "Miguel Zapata-Ros,  \n",
    "Universidad de Murcia. España  \n",
    "mzapata@um.es  \n",
    "\n",
    "### [Primer video de lectura de este artículo](https://www.youtube.com/watch?v=nTP5Bi88uLU)"
   ]
  },
  {
   "cell_type": "markdown",
   "metadata": {},
   "source": [
    "## metodología  \n",
    "\n",
    "La propuesta tiene enfoque cualitativo, de tipo descriptivo y se empleará un estudio de caso, que permitirá comprender en profundidad los procesos y las experiencias de los estudiantes\n",
    "\n"
   ]
  },
  {
   "cell_type": "markdown",
   "metadata": {},
   "source": [
    "Fase 1: Planificación  \n",
    "    1. Definición de Objetivos:\n",
    "        ◦ Establece claramente los objetivos de tu propuesta, como mejorar el pensamiento computacional en estudiantes de administración de empresas utilizando Python y Machine Learning.  \n",
    "    2. Justificación:  \n",
    "        ◦ Explica por qué es importante desarrollar el pensamiento computacional en estudiantes de administración y cómo podría beneficiar sus futuras carreras.\n",
    "    3. Identificación de Casos de Estudio:\n",
    "        ◦ Selecciona casos de estudio específicos (grupos de estudiantes de administración de empresas) en los que implementarás tu enfoque.\n",
    "Fase 2: Diseño de la Investigación\n",
    "    4. Marco Teórico:  \n",
    "        ◦ Realiza una revisión bibliográfica para fundamentar tu propuesta en teorías y enfoques relevantes relacionados con el pensamiento computacional y la administración de empresas.\n",
    "    5. Diseño de Estudio de Caso:\n",
    "        ◦ Describe cómo seleccionarás y abordarás los casos de estudio, incluyendo la recolección de datos cualitativos, como entrevistas y observaciones.\n",
    "    6. Desarrollo del Cuestionario:\n",
    "        ◦ Diseña un cuestionario que permita recopilar datos cualitativos sobre la percepción y la experiencia de los estudiantes en el desarrollo del pensamiento computacional con Python y Machine Learning.  \n",
    "Fase 3: Implementación del Estudio de Caso  \n",
    "    7. Selección de Participantes:  \n",
    "        ◦ Selecciona a los estudiantes de administración de empresas que participarán en el estudio de caso, asegurando una muestra representativa.  \n",
    "    8. Entrevistas y Recopilación de Datos:  \n",
    "        ◦ Realiza entrevistas individuales o en grupos focales con los estudiantes para recopilar datos cualitativos sobre su experiencia en el desarrollo del pensamiento computacional.\n",
    "Fase 4: Análisis de Datos  \n",
    "    9. Transcripción y Codificación:  \n",
    "        ◦ Transcribe las entrevistas y codifica los datos para identificar patrones y temas emergentes relacionados con el pensamiento computacional.  \n",
    "    10. Análisis de Contenido:  \n",
    "        ◦ Realiza un análisis de contenido cualitativo para comprender en profundidad las percepciones y experiencias de los estudiantes.   \n",
    "Fase 5: Conclusiones y Recomendaciones  \n",
    "    11. Interpretación de Resultados:  \n",
    "        ◦ Interpreta los hallazgos de tu investigación y discute cómo se relacionan con el desarrollo del pensamiento computacional en estudiantes de administración de empresas.\n",
    "    12. Conclusiones:  \n",
    "        ◦ Resume las conclusiones principales de tu estudio y cómo contribuyen a la comprensión del tema.  \n",
    "    13. Recomendaciones:  \n",
    "        ◦ Proporciona recomendaciones específicas para mejorar la integración de Python y Machine Learning en la formación de estudiantes de administración.\n",
    "Fase 6: Documentación y Presentación  \n",
    "    14. Informe de Investigación:  \n",
    "        ◦ Escribe un informe de investigación que documente todos los aspectos de tu estudio, desde la metodología hasta los resultados y conclusiones.\n",
    "    15. Presentación de Resultados:\n",
    "        ◦ Prepara una presentación para compartir tus hallazgos con otros interesados, como profesores, estudiantes y administradores académicos.  \n",
    "Fase 7: Evaluación y Retroalimentación  \n",
    "    16. Evaluación de la Propuesta:  \n",
    "        ◦ Evalúa el impacto de tu propuesta en el desarrollo del pensamiento computacional de los estudiantes.  \n",
    "    17. Retroalimentación de los Participantes:  \n",
    "        ◦ Recopila retroalimentación de los estudiantes que participaron en el estudio de caso y utiliza esta información para mejorar futuras implementaciones.  \n"
   ]
  },
  {
   "cell_type": "markdown",
   "metadata": {},
   "source": [
    "Esta metodología guía a través de todas las etapas necesarias para llevar a cabo tu propuesta de desarrollo del pensamiento computacional en estudiantes de administración de empresas utilizando Python y Machine Learning. Seguiremos las mejores prácticas de investigación cualitativa a lo largo de todo el proceso.\n"
   ]
  },
  {
   "cell_type": "code",
   "execution_count": null,
   "metadata": {},
   "outputs": [],
   "source": []
  },
  {
   "cell_type": "code",
   "execution_count": null,
   "metadata": {},
   "outputs": [],
   "source": []
  },
  {
   "cell_type": "code",
   "execution_count": null,
   "metadata": {},
   "outputs": [],
   "source": []
  },
  {
   "cell_type": "code",
   "execution_count": null,
   "metadata": {},
   "outputs": [],
   "source": []
  }
 ],
 "metadata": {
  "language_info": {
   "name": "python"
  },
  "orig_nbformat": 4
 },
 "nbformat": 4,
 "nbformat_minor": 2
}
