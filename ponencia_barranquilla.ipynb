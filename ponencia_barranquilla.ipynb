{
 "cells": [
  {
   "cell_type": "markdown",
   "metadata": {},
   "source": [
    "<table align=\"left\">\n",
    "  <td>\n",
    "    <a href=\"https://colab.research.google.com/github/marco-canas/calculo/blob/main/classes/4_integration/teorema_fundamental_calculo/1_evaluacion_quiz_parcial_teorema_fundamental_calculo.ipynb\" target=\"_parent\"><img src=\"https://colab.research.google.com/assets/colab-badge.svg\" alt=\"Open In Colab\"/></a>\n",
    "  </td>\n",
    "</table>"
   ]
  },
  {
   "cell_type": "markdown",
   "metadata": {},
   "source": [
    "### [Video de appoyo_1](https://www.youtube.com/watch?v=7-ALztZupdE)"
   ]
  },
  {
   "cell_type": "markdown",
   "metadata": {},
   "source": [
    "# Ponencia: DESARROLLO DEL PENSAMIENTO COMPUTACIONAL EN ESTUDIANTES DE ADMINISTRACIÓN DE EMPRESAS, CON PYTHON Y MACHINE LEARNING"
   ]
  },
  {
   "cell_type": "markdown",
   "metadata": {},
   "source": [
    "**Tipo de poonencia:** Abstract corto. "
   ]
  },
  {
   "cell_type": "markdown",
   "metadata": {},
   "source": [
    "**Palabras clave:** \n",
    "Python, Machine Learning, Administración de Empresas, Pensamiento computacional.\n"
   ]
  },
  {
   "cell_type": "markdown",
   "metadata": {},
   "source": [
    "\n",
    "## Resumen\n"
   ]
  },
  {
   "cell_type": "markdown",
   "metadata": {},
   "source": [
    "El pensamiento computacional es una forma de pensar que permite a las personas resolver problemas de forma lógica y sistemática. Es una habilidad esencial en el mundo actual, ya que cada vez más tareas se automatizan y se requieren personas que puedan pensar críticamente y resolver problemas de forma creativa. "
   ]
  },
  {
   "cell_type": "markdown",
   "metadata": {},
   "source": [
    "El desarrollo del pensamiento computacional en los estudiantes de Administración de Empresas puede contribuir a mejorar la toma de decisiones, afrontar y resolver problemas de manera estructurada y lógica, analizar de manera más eficiente lo datos empresariales y optimizar procesos. "
   ]
  },
  {
   "cell_type": "markdown",
   "metadata": {},
   "source": [
    "El objetivo de la investigación es el diseño de una propuesta de enseñanza-aprendizaje para el desarrollo del pensamiento computacional en estudiantes de Administración de Empresas, utilizando Python y Machine Learning. La propuesta tiene enfoque cualitativo, de tipo descriptivo y se empleará un estudio de caso, que permitirá comprender en profundidad los procesos y las experiencias de los estudiantes. Los resultados destacan la relevancia del pensamiento computacional como una habilidad esencial en el campo empresarial actual, donde el análisis de datos y el Machine Learning se han vuelto cruciales para la eficiente toma de decisiones y la resolución de problemas. "
   ]
  },
  {
   "cell_type": "markdown",
   "metadata": {},
   "source": [
    "El desarrollo de estas habilidades en los estudiantes puede proporcionar una ventaja competitiva y permitir la toma decisiones informadas y estratégicas. "
   ]
  },
  {
   "cell_type": "markdown",
   "metadata": {},
   "source": [
    "La formación en pensamiento computacional debe ser considerada como parte integral del currículo académico de los programas de Administración de Empresas, para preparar a los estudiantes para los desafíos del mundo laboral, con entornos empresariales cada vez más digitalizados y tecnológicos.\n"
   ]
  },
  {
   "cell_type": "markdown",
   "metadata": {},
   "source": [
    "# Ejemplo de aplicación de python a la solución de un problema de costos"
   ]
  },
  {
   "cell_type": "markdown",
   "metadata": {},
   "source": [
    "# Ejemplo de parcial\n",
    "\n",
    "## Reposición de inventario\n",
    "\n",
    "El costo $C$ de pedido y transporte de los elementos utilizados para la fabricación de un producto es: \n",
    "\n",
    "$$ C(x) = 100\\left( \\frac{200}{x^{2}} + \\frac{x}{x+30} \\right), \\ \\ x \\geq 1$$\n",
    "\n",
    "donde $C$ se mide en miles de dólares y $x$ es el tamaño del pedido en cientos. \n",
    "\n",
    "1. Encontrar la razón de cambio de $C$ respecto de $x$ cuando \n",
    "   * $x = 10$\n",
    "   * $x = 15$\n",
    "   * $x = 20$  \n",
    "  ¿Qué implican estas razones de cambio cuando el tamaño del pedido aumenta?\n",
    "\n",
    "2. ¿Cuándo se genera el costo mínimo? ¿De qué valor es el costo mínimo?  \n",
    "3. ¿Probar de que efectivamente la función $C$ es de costo mínimo?"
   ]
  },
  {
   "cell_type": "markdown",
   "metadata": {},
   "source": []
  },
  {
   "cell_type": "markdown",
   "metadata": {},
   "source": [
    "# Implicaciones en habilidades computacionesles necesarias para profesores y estudiantes"
   ]
  },
  {
   "cell_type": "code",
   "execution_count": null,
   "metadata": {},
   "outputs": [],
   "source": []
  },
  {
   "cell_type": "markdown",
   "metadata": {},
   "source": [
    "\n",
    "## Referencias \n"
   ]
  },
  {
   "cell_type": "markdown",
   "metadata": {},
   "source": [
    "* Géron, A. (2022). Hands-on Machine Learning with Scikit-Learn, Keras, and TensorFlow. O'Reilly Media.  \n",
    "* McKinney, W. (2018). Python for Data Analysis. O'Reilly Media.  \n",
    "* Quiroz Vallejo, D. A., Carmona Mesa, J. A., Castrillón Yepes, A., & Villa Ochoa, J. A. (2021). Integración del Pensamiento Computacional en la educación primaria y secundaria en Latinoamérica: una revisión sistemática de literatura. Revista de Educación a Distancia, 68(21), 1-33. https://doi.org/DOI: http://dx.doi.org/10.6018/red.485321\n",
    "\n",
    "* Zapata-Ros, M. (2015). Pensamiento computacional: Una nueva alfabetización digital. Revista de Educación a Distancia (RED), (46). [Recuperado quí](https://revistas.um.es/red/article/view/240321)\n"
   ]
  },
  {
   "cell_type": "code",
   "execution_count": null,
   "metadata": {},
   "outputs": [],
   "source": []
  },
  {
   "cell_type": "code",
   "execution_count": null,
   "metadata": {},
   "outputs": [],
   "source": []
  }
 ],
 "metadata": {
  "language_info": {
   "name": "python"
  },
  "orig_nbformat": 4
 },
 "nbformat": 4,
 "nbformat_minor": 2
}
